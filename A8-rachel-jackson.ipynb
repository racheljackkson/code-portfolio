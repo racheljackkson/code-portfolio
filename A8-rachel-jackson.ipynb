{
 "cells": [
  {
   "cell_type": "code",
   "execution_count": 6,
   "metadata": {},
   "outputs": [
    {
     "name": "stdout",
     "output_type": "stream",
     "text": [
      "16\n",
      "0\n",
      "60\n",
      "3\n"
     ]
    }
   ],
   "source": [
    "# 1. Write a Python function named foo that computes the sum of the numbers in a list.\n",
    "\n",
    "def foo(list): #foo function\n",
    "    sum=0 #sum of the list; we know sum is 0 bc prompt tells us\n",
    "    length=len(list) #measures the length of the list\n",
    "    for a in range(0,length): #create sequence of numbers the size of the list\n",
    "        if(list[a]==None): #if None then ignore\n",
    "            continue\n",
    "        sum=sum+list[a] #sum all of the integers in the list\n",
    "    return sum #gives us the sum\n",
    "\n",
    "print(foo([1,2,3,10]))\n",
    "print(foo([]))\n",
    "print(foo([10,20,30]))\n",
    "print(foo([1,None,None,2,None]))"
   ]
  },
  {
   "cell_type": "code",
   "execution_count": 7,
   "metadata": {},
   "outputs": [
    {
     "name": "stdout",
     "output_type": "stream",
     "text": [
      "{'a': 11, 'b': 12}\n",
      "{'queso': 4, 'tacos': 5}\n"
     ]
    }
   ],
   "source": [
    "# 2. Write a Python function named bar that takes two arguments...\n",
    "\n",
    "def bar(dict, x=1):  #bar function\n",
    "    dict.update((a,b+x) for a,b in dict.items()) #updates dictionary; will modify each of its elements\n",
    "    return dict # function returns the dictionary\n",
    "\n",
    "print(bar({'a':1,'b':2},10))\n",
    "print(bar({'queso':3,'tacos':4}))"
   ]
  },
  {
   "cell_type": "code",
   "execution_count": null,
   "metadata": {},
   "outputs": [],
   "source": []
  }
 ],
 "metadata": {
  "kernelspec": {
   "display_name": "Python 3",
   "language": "python",
   "name": "python3"
  },
  "language_info": {
   "codemirror_mode": {
    "name": "ipython",
    "version": 3
   },
   "file_extension": ".py",
   "mimetype": "text/x-python",
   "name": "python",
   "nbconvert_exporter": "python",
   "pygments_lexer": "ipython3",
   "version": "3.8.3"
  }
 },
 "nbformat": 4,
 "nbformat_minor": 4
}
